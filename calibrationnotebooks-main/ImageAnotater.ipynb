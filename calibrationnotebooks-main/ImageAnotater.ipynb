{
 "cells": [
  {
   "cell_type": "code",
   "execution_count": 1,
   "id": "5d3b0d40",
   "metadata": {},
   "outputs": [],
   "source": [
    "%matplotlib widget\n",
    "import matplotlib.pyplot as plt\n",
    "import matplotlib.patches as patches\n",
    "from IPython.display import display\n",
    "import ipywidgets as widgets\n",
    "import numpy as np  # For handling images as arrays\n",
    "\n",
    "import pprint\n",
    "import dataclasses"
   ]
  },
  {
   "cell_type": "code",
   "execution_count": 2,
   "id": "c9224251",
   "metadata": {},
   "outputs": [],
   "source": [
    "@dataclasses.dataclass\n",
    "class BoundingBox():\n",
    "    xmin: int\n",
    "    ymin: int\n",
    "    heigth: int\n",
    "    width: int\n",
    "\n",
    "    def __repr__(self):\n",
    "        return f\" xmin: {self.xmin: >5}\\n ymin: {self.ymin : >5}\\n widht:{self.width :>5}\\n heigth:{self.heigth : >4}\\n\" \n",
    "\n"
   ]
  },
  {
   "cell_type": "code",
   "execution_count": 3,
   "id": "a60a60c1",
   "metadata": {},
   "outputs": [
    {
     "data": {
      "text/plain": [
       " xmin:     1\n",
       " ymin:     1\n",
       " widht:    2\n",
       " heigth:   2"
      ]
     },
     "execution_count": 3,
     "metadata": {},
     "output_type": "execute_result"
    }
   ],
   "source": [
    "BoundingBox(xmin=1,\n",
    "            ymin=1,\n",
    "            width=2,heigth=2)"
   ]
  },
  {
   "cell_type": "code",
   "execution_count": null,
   "id": "30627df4",
   "metadata": {},
   "outputs": [],
   "source": []
  },
  {
   "cell_type": "code",
   "execution_count": 4,
   "id": "b172461c",
   "metadata": {},
   "outputs": [],
   "source": [
    "class ImageAnnotator:\n",
    "    def __init__(self, image_files):\n",
    "        self.image_files = image_files\n",
    "        self.current_image_index = 0\n",
    "        self.bounding_boxes = []\n",
    "        self.current_boxes = []\n",
    "        self.fig, self.ax = plt.subplots()\n",
    "        self.fig.canvas.mpl_connect('button_press_event', self.on_click)\n",
    "        self.fig.canvas.mpl_connect('button_release_event', self.on_release)\n",
    "        self.cid = None\n",
    "        self.rect = None\n",
    "        self.x0, self.y0 = None, None\n",
    "        self.display_image()\n",
    "        self.output = widgets.Output()\n",
    "        \n",
    "    def display_image(self):\n",
    "        \"\"\"Displays the current image.\"\"\"\n",
    "        image_path = self.image_files[self.current_image_index]\n",
    "        self.image = plt.imread(image_path)\n",
    "        self.ax.clear()\n",
    "        self.ax.imshow(self.image)\n",
    "        self.current_boxes = []\n",
    "        plt.show()\n",
    "        \n",
    "    def on_click(self, event):\n",
    "        \"\"\"Event handler for mouse click.\"\"\"\n",
    "        # Record the start point\n",
    "        self.x0, self.y0 = event.xdata, event.ydata\n",
    "        self.rect = patches.Rectangle((self.x0, self.y0), 0, 0, linewidth=1, edgecolor='r', facecolor='none')\n",
    "        self.ax.add_patch(self.rect)\n",
    "        \n",
    "    def on_release(self, event):\n",
    "        \"\"\"Event handler for mouse release.\"\"\"\n",
    "        # Record the bounding box\n",
    "        x1, y1 = event.xdata, event.ydata\n",
    "        self.current_boxes.append(BoundingBox(xmin=self.x0,\n",
    "                                              ymin=self.y0,\n",
    "                                              width=x1 - self.x0,\n",
    "                                              heigth=y1 - self.y0))\n",
    "        self.bounding_boxes.append(self.current_boxes[-1])\n",
    "        self.rect.set_width(x1 - self.x0)\n",
    "        self.rect.set_height(y1 - self.y0)\n",
    "        self.fig.canvas.draw()\n",
    "\n",
    "\n",
    "    def on_motion(self, event):\n",
    "        \"\"\"Event handler for mouse motion. Updates the size of the rectangle.\"\"\"\n",
    "        if self.rect is None or event.inaxes != self.ax:\n",
    "            return  # Ignore motion outside the axes or if no rectangle is started\n",
    "        x1, y1 = event.xdata, event.ydata\n",
    "        self.rect.set_width(x1 - self.x0)\n",
    "        self.rect.set_height(y1 - self.y0)\n",
    "        self.fig.canvas.draw()\n",
    "        \n",
    "    def next_image(self):\n",
    "        \"\"\"Loads the next image.\"\"\"\n",
    "        if self.current_image_index + 1 < len(self.image_files):\n",
    "            self.current_image_index += 1\n",
    "            self.display_image()\n",
    "        else:\n",
    "            self.close_annotation()\n",
    "            display(self.output)\n",
    "\n",
    "\n",
    "    def close_annotation(self):\n",
    "        \"\"\"Clears and closes the figure, and hides the button.\"\"\"\n",
    "        self.ax.clear()  # Clear the axes\n",
    "        plt.close(self.fig)  # Close the figure to release resources\n",
    "        self.button.layout.display = 'none'  # Hide the button\n",
    "        with self.output:\n",
    "            print(\"Annotation completed. No more images.\")\n",
    "     \n"
   ]
  },
  {
   "cell_type": "raw",
   "id": "2627c673",
   "metadata": {},
   "source": [
    "image_files = [\"test_data/extracted_15.jpg\",\"test_data/extracted_15.jpg\"]  # List your images here\n",
    "annotator = ImageAnnotator(image_files)\n",
    "\n",
    "button = widgets.Button(description=\"Next Image\")\n",
    "button.on_click(lambda b: annotator.next_image())\n",
    "annotator.button = button  # Pass the button to the annotator\n",
    "display(button)"
   ]
  },
  {
   "cell_type": "raw",
   "id": "95d00d8a",
   "metadata": {},
   "source": [
    "for box, im in zip(annotator.bounding_boxes, annotator.image_files):\n",
    "    print(im)\n",
    "    print(box)\n",
    "    print(\"\\n\")"
   ]
  },
  {
   "cell_type": "raw",
   "id": "189ed5ac",
   "metadata": {},
   "source": [
    "test_annotator()"
   ]
  },
  {
   "cell_type": "code",
   "execution_count": null,
   "id": "cccfdbbf",
   "metadata": {},
   "outputs": [],
   "source": []
  },
  {
   "cell_type": "code",
   "execution_count": null,
   "id": "7268c5b8",
   "metadata": {},
   "outputs": [],
   "source": []
  },
  {
   "cell_type": "code",
   "execution_count": null,
   "id": "e47ef0f9-7388-44fc-b5b2-5406c85d2aeb",
   "metadata": {},
   "outputs": [],
   "source": []
  }
 ],
 "metadata": {
  "jupytext": {
   "formats": "auto:percent,ipynb"
  },
  "kernelspec": {
   "display_name": "Python 3 (ipykernel)",
   "language": "python",
   "name": "python3"
  },
  "language_info": {
   "codemirror_mode": {
    "name": "ipython",
    "version": 3
   },
   "file_extension": ".py",
   "mimetype": "text/x-python",
   "name": "python",
   "nbconvert_exporter": "python",
   "pygments_lexer": "ipython3",
   "version": "3.12.4"
  }
 },
 "nbformat": 4,
 "nbformat_minor": 5
}
